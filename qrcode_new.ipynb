{
 "cells": [
  {
   "cell_type": "code",
   "execution_count": 59,
   "id": "8681f0a7",
   "metadata": {},
   "outputs": [],
   "source": [
    "import cv2"
   ]
  },
  {
   "cell_type": "code",
   "execution_count": 60,
   "id": "4fcc5d51",
   "metadata": {},
   "outputs": [],
   "source": [
    "from pyzbar.pyzbar import decode"
   ]
  },
  {
   "cell_type": "code",
   "execution_count": 61,
   "id": "e416eb67",
   "metadata": {},
   "outputs": [],
   "source": [
    "import numpy as np"
   ]
  },
  {
   "cell_type": "code",
   "execution_count": 62,
   "id": "70d75cd4",
   "metadata": {},
   "outputs": [],
   "source": [
    "from matplotlib import pyplot as plt"
   ]
  },
  {
   "cell_type": "code",
   "execution_count": 63,
   "id": "437d9448",
   "metadata": {},
   "outputs": [],
   "source": [
    "import imutils"
   ]
  },
  {
   "cell_type": "code",
   "execution_count": 64,
   "id": "9229e0d7",
   "metadata": {},
   "outputs": [
    {
     "data": {
      "text/plain": [
       "True"
      ]
     },
     "execution_count": 64,
     "metadata": {},
     "output_type": "execute_result"
    }
   ],
   "source": [
    "cap=cv2.VideoCapture(0)\n",
    "cap.set(3,1080)\n",
    "cap.set(4,720)\n"
   ]
  },
  {
   "cell_type": "code",
   "execution_count": null,
   "id": "6561678d",
   "metadata": {},
   "outputs": [],
   "source": []
  },
  {
   "cell_type": "code",
   "execution_count": 65,
   "id": "e02eb081",
   "metadata": {},
   "outputs": [
    {
     "name": "stdout",
     "output_type": "stream",
     "text": [
      "[Decoded(data=b'KH0786', type='QRCODE', rect=Rect(left=238, top=409, width=105, height=86), polygon=[Point(x=238, y=484), Point(x=327, y=495), Point(x=343, y=416), Point(x=259, y=409)], quality=1, orientation='UP'), Decoded(data=b'HU1414', type='QRCODE', rect=Rect(left=558, top=428, width=100, height=96), polygon=[Point(x=558, y=502), Point(x=647, y=524), Point(x=658, y=446), Point(x=571, y=428)], quality=1, orientation='LEFT')]\n",
      "[Decoded(data=b'HU1414', type='QRCODE', rect=Rect(left=556, top=430, width=101, height=96), polygon=[Point(x=556, y=504), Point(x=645, y=526), Point(x=657, y=447), Point(x=570, y=430)], quality=1, orientation='LEFT'), Decoded(data=b'KH0786', type='QRCODE', rect=Rect(left=237, top=410, width=105, height=88), polygon=[Point(x=237, y=485), Point(x=327, y=498), Point(x=342, y=417), Point(x=258, y=410)], quality=1, orientation='UP')]\n",
      "[Decoded(data=b'HU1414', type='QRCODE', rect=Rect(left=558, top=431, width=101, height=96), polygon=[Point(x=558, y=505), Point(x=647, y=527), Point(x=659, y=448), Point(x=572, y=431)], quality=1, orientation='LEFT'), Decoded(data=b'KH0786', type='QRCODE', rect=Rect(left=239, top=411, width=105, height=87), polygon=[Point(x=239, y=485), Point(x=328, y=498), Point(x=344, y=417), Point(x=260, y=411)], quality=1, orientation='UP')]\n",
      "[Decoded(data=b'HU1414', type='QRCODE', rect=Rect(left=560, top=428, width=102, height=97), polygon=[Point(x=560, y=502), Point(x=650, y=525), Point(x=662, y=446), Point(x=575, y=428)], quality=1, orientation='LEFT'), Decoded(data=b'KH0786', type='QRCODE', rect=Rect(left=240, top=407, width=106, height=86), polygon=[Point(x=240, y=482), Point(x=330, y=493), Point(x=346, y=414), Point(x=262, y=407)], quality=1, orientation='UP')]\n",
      "[Decoded(data=b'HU1414', type='QRCODE', rect=Rect(left=561, top=432, width=101, height=96), polygon=[Point(x=561, y=506), Point(x=650, y=528), Point(x=662, y=449), Point(x=574, y=432)], quality=1, orientation='LEFT'), Decoded(data=b'KH0786', type='QRCODE', rect=Rect(left=242, top=411, width=105, height=86), polygon=[Point(x=242, y=486), Point(x=331, y=497), Point(x=347, y=418), Point(x=263, y=411)], quality=1, orientation='UP')]\n",
      "[]\n",
      "[Decoded(data=b'KH0786', type='QRCODE', rect=Rect(left=281, top=468, width=96, height=80), polygon=[Point(x=281, y=537), Point(x=362, y=548), Point(x=377, y=476), Point(x=302, y=468)], quality=1, orientation='UP'), Decoded(data=b'HU1414', type='QRCODE', rect=Rect(left=575, top=492, width=94, height=91), polygon=[Point(x=575, y=560), Point(x=658, y=583), Point(x=669, y=509), Point(x=588, y=492)], quality=1, orientation='LEFT')]\n",
      "[Decoded(data=b'KH0786', type='QRCODE', rect=Rect(left=285, top=480, width=95, height=79), polygon=[Point(x=285, y=547), Point(x=365, y=559), Point(x=380, y=487), Point(x=305, y=480)], quality=1, orientation='UP'), Decoded(data=b'HU1414', type='QRCODE', rect=Rect(left=574, top=502, width=94, height=90), polygon=[Point(x=574, y=570), Point(x=657, y=592), Point(x=668, y=521), Point(x=588, y=502)], quality=1, orientation='LEFT')]\n",
      "[Decoded(data=b'HU1414', type='QRCODE', rect=Rect(left=571, top=503, width=94, height=89), polygon=[Point(x=571, y=571), Point(x=654, y=592), Point(x=665, y=520), Point(x=585, y=503)], quality=1, orientation='LEFT'), Decoded(data=b'KH0786', type='QRCODE', rect=Rect(left=282, top=481, width=95, height=78), polygon=[Point(x=282, y=548), Point(x=362, y=559), Point(x=377, y=488), Point(x=302, y=481)], quality=1, orientation='UP')]\n",
      "[Decoded(data=b'HU1414', type='QRCODE', rect=Rect(left=571, top=502, width=94, height=89), polygon=[Point(x=571, y=569), Point(x=654, y=591), Point(x=665, y=519), Point(x=585, y=502)], quality=1, orientation='LEFT')]\n",
      "[Decoded(data=b'HU1414', type='QRCODE', rect=Rect(left=573, top=500, width=94, height=90), polygon=[Point(x=573, y=568), Point(x=655, y=590), Point(x=667, y=518), Point(x=586, y=500)], quality=1, orientation='LEFT'), Decoded(data=b'KH0786', type='QRCODE', rect=Rect(left=283, top=477, width=95, height=79), polygon=[Point(x=283, y=544), Point(x=362, y=556), Point(x=378, y=484), Point(x=303, y=477)], quality=1, orientation='UP')]\n",
      "[Decoded(data=b'KH0786', type='QRCODE', rect=Rect(left=284, top=476, width=95, height=80), polygon=[Point(x=284, y=543), Point(x=364, y=556), Point(x=379, y=483), Point(x=304, y=476)], quality=1, orientation='UP'), Decoded(data=b'HU1414', type='QRCODE', rect=Rect(left=574, top=500, width=95, height=90), polygon=[Point(x=574, y=567), Point(x=657, y=590), Point(x=669, y=518), Point(x=588, y=500)], quality=1, orientation='LEFT')]\n",
      "[Decoded(data=b'KH0786', type='QRCODE', rect=Rect(left=287, top=477, width=95, height=79), polygon=[Point(x=287, y=544), Point(x=367, y=556), Point(x=382, y=484), Point(x=308, y=477)], quality=1, orientation='UP')]\n",
      "[Decoded(data=b'KH0786', type='QRCODE', rect=Rect(left=287, top=481, width=95, height=79), polygon=[Point(x=287, y=548), Point(x=367, y=560), Point(x=382, y=489), Point(x=308, y=481)], quality=1, orientation='UP'), Decoded(data=b'HU1414', type='QRCODE', rect=Rect(left=576, top=505, width=94, height=90), polygon=[Point(x=576, y=572), Point(x=659, y=595), Point(x=670, y=523), Point(x=590, y=505)], quality=1, orientation='LEFT')]\n",
      "[Decoded(data=b'HU1414', type='QRCODE', rect=Rect(left=577, top=513, width=93, height=90), polygon=[Point(x=577, y=580), Point(x=659, y=603), Point(x=670, y=532), Point(x=591, y=513)], quality=1, orientation='LEFT'), Decoded(data=b'KH0786', type='QRCODE', rect=Rect(left=291, top=489, width=94, height=78), polygon=[Point(x=291, y=555), Point(x=370, y=567), Point(x=385, y=496), Point(x=311, y=489)], quality=1, orientation='UP')]\n",
      "[Decoded(data=b'KH0786', type='QRCODE', rect=Rect(left=301, top=506, width=92, height=77), polygon=[Point(x=301, y=570), Point(x=377, y=583), Point(x=393, y=514), Point(x=321, y=506)], quality=1, orientation='UP')]\n",
      "[Decoded(data=b'KH0786', type='QRCODE', rect=Rect(left=306, top=522, width=91, height=77), polygon=[Point(x=306, y=585), Point(x=382, y=599), Point(x=397, y=530), Point(x=327, y=522)], quality=1, orientation='UP'), Decoded(data=b'HU1414', type='QRCODE', rect=Rect(left=582, top=548, width=90, height=88), polygon=[Point(x=582, y=612), Point(x=661, y=636), Point(x=672, y=567), Point(x=595, y=548)], quality=1, orientation='LEFT')]\n",
      "[Decoded(data=b'KH0786', type='QRCODE', rect=Rect(left=308, top=531, width=89, height=75), polygon=[Point(x=308, y=593), Point(x=382, y=606), Point(x=397, y=539), Point(x=327, y=531)], quality=1, orientation='UP'), Decoded(data=b'HU1414', type='QRCODE', rect=Rect(left=580, top=558, width=90, height=86), polygon=[Point(x=580, y=621), Point(x=659, y=644), Point(x=670, y=577), Point(x=593, y=558)], quality=1, orientation='LEFT')]\n",
      "[Decoded(data=b'KH0786', type='QRCODE', rect=Rect(left=309, top=532, width=90, height=75), polygon=[Point(x=309, y=594), Point(x=384, y=607), Point(x=399, y=540), Point(x=330, y=532)], quality=1, orientation='UP'), Decoded(data=b'HU1414', type='QRCODE', rect=Rect(left=581, top=559, width=89, height=86), polygon=[Point(x=581, y=622), Point(x=660, y=645), Point(x=670, y=577), Point(x=594, y=559)], quality=1, orientation='LEFT')]\n",
      "[Decoded(data=b'KH0786', type='QRCODE', rect=Rect(left=311, top=532, width=89, height=75), polygon=[Point(x=311, y=594), Point(x=385, y=607), Point(x=400, y=540), Point(x=331, y=532)], quality=1, orientation='UP'), Decoded(data=b'HU1414', type='QRCODE', rect=Rect(left=583, top=560, width=89, height=86), polygon=[Point(x=583, y=623), Point(x=661, y=646), Point(x=672, y=578), Point(x=596, y=560)], quality=1, orientation='LEFT')]\n",
      "[]\n",
      "[Decoded(data=b'KH0786', type='QRCODE', rect=Rect(left=313, top=530, width=90, height=75), polygon=[Point(x=313, y=592), Point(x=387, y=605), Point(x=403, y=538), Point(x=334, y=530)], quality=1, orientation='UP'), Decoded(data=b'HU1414', type='QRCODE', rect=Rect(left=585, top=558, width=90, height=87), polygon=[Point(x=585, y=621), Point(x=664, y=645), Point(x=675, y=577), Point(x=599, y=558)], quality=1, orientation='LEFT')]\n",
      "[Decoded(data=b'KH0786', type='QRCODE', rect=Rect(left=313, top=531, width=89, height=74), polygon=[Point(x=313, y=592), Point(x=387, y=605), Point(x=402, y=538), Point(x=333, y=531)], quality=1, orientation='UP'), Decoded(data=b'HU1414', type='QRCODE', rect=Rect(left=585, top=558, width=90, height=87), polygon=[Point(x=585, y=621), Point(x=663, y=645), Point(x=675, y=578), Point(x=598, y=558)], quality=1, orientation='LEFT')]\n"
     ]
    },
    {
     "name": "stdout",
     "output_type": "stream",
     "text": [
      "[Decoded(data=b'KH0786', type='QRCODE', rect=Rect(left=309, top=526, width=90, height=74), polygon=[Point(x=309, y=588), Point(x=384, y=600), Point(x=399, y=534), Point(x=329, y=526)], quality=1, orientation='UP')]\n",
      "[Decoded(data=b'HU1414', type='QRCODE', rect=Rect(left=584, top=554, width=90, height=86), polygon=[Point(x=584, y=617), Point(x=663, y=640), Point(x=674, y=572), Point(x=598, y=554)], quality=1, orientation='LEFT')]\n",
      "[]\n",
      "[Decoded(data=b'HU1414', type='QRCODE', rect=Rect(left=585, top=551, width=91, height=87), polygon=[Point(x=585, y=614), Point(x=664, y=638), Point(x=676, y=570), Point(x=599, y=551)], quality=1, orientation='LEFT')]\n",
      "[Decoded(data=b'KH0786', type='QRCODE', rect=Rect(left=311, top=522, width=91, height=76), polygon=[Point(x=311, y=584), Point(x=386, y=598), Point(x=402, y=530), Point(x=332, y=522)], quality=1, orientation='UP'), Decoded(data=b'HU1414', type='QRCODE', rect=Rect(left=584, top=551, width=91, height=87), polygon=[Point(x=584, y=614), Point(x=664, y=638), Point(x=675, y=570), Point(x=598, y=551)], quality=1, orientation='LEFT')]\n",
      "[Decoded(data=b'HU1414', type='QRCODE', rect=Rect(left=584, top=551, width=90, height=87), polygon=[Point(x=584, y=614), Point(x=662, y=638), Point(x=674, y=569), Point(x=597, y=551)], quality=1, orientation='LEFT'), Decoded(data=b'KH0786', type='QRCODE', rect=Rect(left=310, top=522, width=90, height=75), polygon=[Point(x=310, y=584), Point(x=385, y=597), Point(x=400, y=530), Point(x=330, y=522)], quality=1, orientation='UP')]\n",
      "[Decoded(data=b'HU1414', type='QRCODE', rect=Rect(left=587, top=538, width=92, height=88), polygon=[Point(x=587, y=602), Point(x=666, y=626), Point(x=679, y=557), Point(x=600, y=538)], quality=1, orientation='LEFT')]\n",
      "[Decoded(data=b'HU1414', type='QRCODE', rect=Rect(left=585, top=539, width=92, height=88), polygon=[Point(x=585, y=603), Point(x=665, y=627), Point(x=677, y=558), Point(x=599, y=539)], quality=1, orientation='LEFT')]\n",
      "[Decoded(data=b'KH0786', type='QRCODE', rect=Rect(left=308, top=511, width=92, height=76), polygon=[Point(x=308, y=574), Point(x=384, y=587), Point(x=400, y=519), Point(x=329, y=511)], quality=1, orientation='UP'), Decoded(data=b'HU1414', type='QRCODE', rect=Rect(left=585, top=540, width=91, height=88), polygon=[Point(x=585, y=604), Point(x=664, y=628), Point(x=676, y=559), Point(x=599, y=540)], quality=1, orientation='LEFT')]\n",
      "[Decoded(data=b'HU1414', type='QRCODE', rect=Rect(left=585, top=536, width=91, height=88), polygon=[Point(x=585, y=600), Point(x=665, y=624), Point(x=676, y=555), Point(x=599, y=536)], quality=1, orientation='LEFT'), Decoded(data=b'KH0786', type='QRCODE', rect=Rect(left=307, top=507, width=92, height=76), polygon=[Point(x=307, y=569), Point(x=383, y=583), Point(x=399, y=515), Point(x=328, y=507)], quality=1, orientation='UP')]\n",
      "[Decoded(data=b'KH0786', type='QRCODE', rect=Rect(left=313, top=499, width=92, height=77), polygon=[Point(x=313, y=562), Point(x=389, y=576), Point(x=405, y=508), Point(x=333, y=499)], quality=1, orientation='UP'), Decoded(data=b'HU1414', type='QRCODE', rect=Rect(left=591, top=529, width=93, height=89), polygon=[Point(x=591, y=594), Point(x=672, y=618), Point(x=684, y=550), Point(x=606, y=529)], quality=1, orientation='LEFT')]\n",
      "[Decoded(data=b'KH0786', type='QRCODE', rect=Rect(left=313, top=499, width=92, height=77), polygon=[Point(x=313, y=563), Point(x=389, y=576), Point(x=405, y=508), Point(x=333, y=499)], quality=1, orientation='UP')]\n",
      "[]\n",
      "[Decoded(data=b'KH0786', type='QRCODE', rect=Rect(left=312, top=498, width=93, height=77), polygon=[Point(x=312, y=561), Point(x=388, y=575), Point(x=405, y=507), Point(x=333, y=498)], quality=1, orientation='UP'), Decoded(data=b'HU1414', type='QRCODE', rect=Rect(left=591, top=529, width=93, height=89), polygon=[Point(x=591, y=594), Point(x=672, y=618), Point(x=684, y=550), Point(x=606, y=529)], quality=1, orientation='LEFT')]\n",
      "[]\n",
      "[Decoded(data=b'HU1414', type='QRCODE', rect=Rect(left=586, top=532, width=92, height=89), polygon=[Point(x=586, y=597), Point(x=666, y=621), Point(x=678, y=551), Point(x=600, y=532)], quality=1, orientation='LEFT'), Decoded(data=b'KH0786', type='QRCODE', rect=Rect(left=308, top=502, width=92, height=76), polygon=[Point(x=308, y=565), Point(x=384, y=578), Point(x=400, y=511), Point(x=329, y=502)], quality=1, orientation='UP')]\n",
      "[Decoded(data=b'KH0786', type='QRCODE', rect=Rect(left=307, top=504, width=92, height=77), polygon=[Point(x=307, y=567), Point(x=383, y=581), Point(x=399, y=513), Point(x=328, y=504)], quality=1, orientation='UP'), Decoded(data=b'HU1414', type='QRCODE', rect=Rect(left=585, top=534, width=91, height=88), polygon=[Point(x=585, y=598), Point(x=665, y=622), Point(x=676, y=554), Point(x=599, y=534)], quality=1, orientation='LEFT')]\n",
      "[Decoded(data=b'KH0786', type='QRCODE', rect=Rect(left=307, top=504, width=92, height=78), polygon=[Point(x=307, y=567), Point(x=383, y=582), Point(x=399, y=513), Point(x=328, y=504)], quality=1, orientation='UP'), Decoded(data=b'HU1414', type='QRCODE', rect=Rect(left=585, top=534, width=92, height=89), polygon=[Point(x=585, y=599), Point(x=665, y=623), Point(x=677, y=554), Point(x=599, y=534)], quality=1, orientation='LEFT')]\n",
      "[Decoded(data=b'KH0786', type='QRCODE', rect=Rect(left=308, top=504, width=92, height=77), polygon=[Point(x=308, y=567), Point(x=383, y=581), Point(x=400, y=512), Point(x=329, y=504)], quality=1, orientation='UP'), Decoded(data=b'HU1414', type='QRCODE', rect=Rect(left=586, top=534, width=92, height=89), polygon=[Point(x=586, y=598), Point(x=665, y=623), Point(x=678, y=553), Point(x=600, y=534)], quality=1, orientation='LEFT')]\n",
      "[Decoded(data=b'KH0786', type='QRCODE', rect=Rect(left=309, top=504, width=92, height=77), polygon=[Point(x=309, y=567), Point(x=385, y=581), Point(x=401, y=513), Point(x=330, y=504)], quality=1, orientation='UP'), Decoded(data=b'HU1414', type='QRCODE', rect=Rect(left=586, top=534, width=92, height=89), polygon=[Point(x=586, y=598), Point(x=666, y=623), Point(x=678, y=554), Point(x=601, y=534)], quality=1, orientation='LEFT')]\n",
      "[Decoded(data=b'HU1414', type='QRCODE', rect=Rect(left=587, top=533, width=92, height=88), polygon=[Point(x=587, y=597), Point(x=667, y=621), Point(x=679, y=552), Point(x=602, y=533)], quality=1, orientation='LEFT'), Decoded(data=b'KH0786', type='QRCODE', rect=Rect(left=309, top=502, width=93, height=78), polygon=[Point(x=309, y=565), Point(x=385, y=580), Point(x=402, y=511), Point(x=331, y=502)], quality=1, orientation='UP')]\n",
      "[Decoded(data=b'KH0786', type='QRCODE', rect=Rect(left=310, top=504, width=92, height=77), polygon=[Point(x=310, y=567), Point(x=384, y=581), Point(x=402, y=513), Point(x=331, y=504)], quality=1, orientation='UP'), Decoded(data=b'HU1414', type='QRCODE', rect=Rect(left=587, top=535, width=92, height=89), polygon=[Point(x=587, y=600), Point(x=667, y=624), Point(x=679, y=555), Point(x=601, y=535)], quality=1, orientation='LEFT')]\n",
      "[Decoded(data=b'KH0786', type='QRCODE', rect=Rect(left=333, top=508, width=92, height=77), polygon=[Point(x=333, y=571), Point(x=409, y=585), Point(x=425, y=518), Point(x=354, y=508)], quality=1, orientation='UP')]\n",
      "[]\n",
      "[]\n",
      "[Decoded(data=b'KH0786', type='QRCODE', rect=Rect(left=288, top=450, width=100, height=83), polygon=[Point(x=288, y=510), Point(x=362, y=533), Point(x=388, y=469), Point(x=318, y=450)], quality=1, orientation='UP'), Decoded(data=b'HU1414', type='QRCODE', rect=Rect(left=561, top=518, width=99, height=95), polygon=[Point(x=561, y=579), Point(x=637, y=613), Point(x=660, y=547), Point(x=585, y=518)], quality=1, orientation='LEFT')]\n",
      "[]\n",
      "[]\n",
      "[]\n",
      "[]\n",
      "[]\n",
      "[Decoded(data=b'KH0786', type='QRCODE', rect=Rect(left=134, top=417, width=102, height=79), polygon=[Point(x=134, y=481), Point(x=219, y=496), Point(x=236, y=429), Point(x=156, y=417)], quality=1, orientation='UP')]\n",
      "[]\n",
      "[]\n",
      "[]\n",
      "[]\n",
      "[]\n",
      "[]\n",
      "[]\n",
      "[]\n",
      "[]\n",
      "[]\n",
      "[]\n",
      "[]\n",
      "[Decoded(data=b'KH0786', type='QRCODE', rect=Rect(left=226, top=330, width=184, height=131), polygon=[Point(x=226, y=419), Point(x=352, y=461), Point(x=410, y=355), Point(x=293, y=330)], quality=1, orientation='UP')]\n",
      "[Decoded(data=b'KH0786', type='QRCODE', rect=Rect(left=225, top=331, width=184, height=131), polygon=[Point(x=225, y=421), Point(x=351, y=462), Point(x=409, y=357), Point(x=292, y=331)], quality=1, orientation='UP')]\n"
     ]
    },
    {
     "name": "stdout",
     "output_type": "stream",
     "text": [
      "[]\n",
      "[]\n",
      "[Decoded(data=b'KH0786', type='QRCODE', rect=Rect(left=237, top=328, width=184, height=130), polygon=[Point(x=237, y=416), Point(x=363, y=458), Point(x=421, y=353), Point(x=306, y=328)], quality=1, orientation='UP')]\n",
      "[]\n",
      "[Decoded(data=b'KH0786', type='QRCODE', rect=Rect(left=234, top=327, width=183, height=130), polygon=[Point(x=234, y=416), Point(x=358, y=457), Point(x=417, y=353), Point(x=302, y=327)], quality=1, orientation='UP')]\n",
      "[Decoded(data=b'KH0786', type='QRCODE', rect=Rect(left=236, top=318, width=182, height=131), polygon=[Point(x=236, y=407), Point(x=361, y=449), Point(x=418, y=343), Point(x=303, y=318)], quality=1, orientation='UP')]\n",
      "[]\n",
      "[]\n",
      "[Decoded(data=b'KH0786', type='QRCODE', rect=Rect(left=250, top=290, width=177, height=126), polygon=[Point(x=250, y=383), Point(x=376, y=416), Point(x=427, y=308), Point(x=311, y=290)], quality=1, orientation='UP')]\n",
      "[Decoded(data=b'KH0786', type='QRCODE', rect=Rect(left=265, top=319, width=179, height=127), polygon=[Point(x=265, y=409), Point(x=390, y=446), Point(x=444, y=339), Point(x=329, y=319)], quality=1, orientation='UP')]\n",
      "[]\n",
      "[]\n",
      "[]\n",
      "[]\n",
      "[]\n",
      "[]\n",
      "[]\n",
      "[]\n",
      "[]\n",
      "[]\n",
      "[]\n",
      "[]\n",
      "[]\n",
      "[]\n",
      "[]\n",
      "[]\n",
      "[]\n",
      "[]\n",
      "[]\n",
      "[]\n",
      "[]\n",
      "[]\n",
      "[]\n",
      "[]\n",
      "[]\n",
      "[]\n",
      "[]\n",
      "[]\n",
      "[]\n",
      "[]\n",
      "[]\n",
      "[]\n",
      "[]\n",
      "[]\n",
      "[]\n",
      "[]\n",
      "[]\n",
      "[]\n",
      "[]\n",
      "[]\n",
      "[]\n",
      "[]\n",
      "[]\n",
      "[]\n",
      "[]\n",
      "[]\n",
      "[]\n",
      "[]\n",
      "[]\n",
      "[]\n",
      "[]\n",
      "[Decoded(data=b'KH0786', type='QRCODE', rect=Rect(left=386, top=125, width=166, height=143), polygon=[Point(x=386, y=198), Point(x=485, y=268), Point(x=552, y=184), Point(x=457, y=125)], quality=1, orientation='UP')]\n",
      "[]\n",
      "[]\n",
      "[]\n",
      "[]\n",
      "[]\n",
      "[]\n",
      "[]\n",
      "[]\n",
      "[]\n",
      "[]\n",
      "[]\n",
      "[]\n",
      "[Decoded(data=b'HU1414', type='QRCODE', rect=Rect(left=760, top=428, width=162, height=159), polygon=[Point(x=760, y=498), Point(x=855, y=587), Point(x=922, y=508), Point(x=825, y=428)], quality=1, orientation='LEFT')]\n",
      "[]\n",
      "[Decoded(data=b'HU1414', type='QRCODE', rect=Rect(left=756, top=430, width=160, height=159), polygon=[Point(x=756, y=500), Point(x=849, y=589), Point(x=916, y=511), Point(x=820, y=430)], quality=1, orientation='LEFT')]\n",
      "[Decoded(data=b'KH0786', type='QRCODE', rect=Rect(left=411, top=213, width=150, height=131), polygon=[Point(x=411, y=276), Point(x=495, y=344), Point(x=561, y=270), Point(x=476, y=213)], quality=1, orientation='UP')]\n",
      "[]\n",
      "[]\n",
      "[Decoded(data=b'HU1414', type='QRCODE', rect=Rect(left=733, top=446, width=157, height=154), polygon=[Point(x=733, y=515), Point(x=826, y=600), Point(x=890, y=525), Point(x=797, y=446)], quality=1, orientation='LEFT')]\n",
      "[]\n",
      "[]\n",
      "[]\n",
      "[]\n",
      "[]\n",
      "[]\n",
      "[Decoded(data=b'HU1414', type='QRCODE', rect=Rect(left=749, top=435, width=191, height=186), polygon=[Point(x=749, y=517), Point(x=869, y=621), Point(x=940, y=524), Point(x=821, y=435)], quality=1, orientation='LEFT')]\n",
      "[]\n",
      "[]\n",
      "[]\n",
      "[]\n",
      "[]\n",
      "[Decoded(data=b'HU1414', type='QRCODE', rect=Rect(left=733, top=499, width=188, height=185), polygon=[Point(x=733, y=580), Point(x=851, y=684), Point(x=921, y=588), Point(x=805, y=499)], quality=1, orientation='LEFT')]\n",
      "[]\n",
      "[]\n",
      "[]\n",
      "[]\n",
      "[]\n",
      "[]\n",
      "[]\n",
      "[]\n"
     ]
    }
   ],
   "source": [
    "# i=0\n",
    "# j=0\n",
    "# k=[]\n",
    "# accident=0\n",
    "while True:\n",
    "    \n",
    "    ret,frame=cap.read()    \n",
    "#    frame = cv2.cvtColor(frame, cv2.COLOR_BGR2GRAY)\n",
    "    \n",
    "    print(decode(frame))\n",
    "            \n",
    "    for barcode in decode(frame):\n",
    "        \n",
    "        my_data=barcode.data.decode('utf-8')\n",
    "        pts=np.array([barcode.polygon],np.int32)\n",
    "        pts=pts.reshape((-1,1,2))\n",
    "        cv2.polylines(frame,[pts],True,(255,0,255),5)\n",
    "        pts2=barcode.rect\n",
    "        cv2.putText(frame,my_data,(pts2[0],pts2[1]),cv2.FONT_HERSHEY_PLAIN,0.9,(255,0,255),2)               \n",
    "        \n",
    "    cv2.imshow('image', frame)\n",
    "   \n",
    "    \n",
    "    if cv2.waitKey(1)==27:\n",
    "        break\n",
    "cap.release()\n",
    "cv2.destroyAllWindows()"
   ]
  },
  {
   "cell_type": "code",
   "execution_count": 19,
   "id": "835bc822",
   "metadata": {},
   "outputs": [],
   "source": [
    "cap.release()"
   ]
  },
  {
   "cell_type": "code",
   "execution_count": null,
   "id": "063e43ea",
   "metadata": {},
   "outputs": [],
   "source": []
  }
 ],
 "metadata": {
  "kernelspec": {
   "display_name": "Python 3 (ipykernel)",
   "language": "python",
   "name": "python3"
  },
  "language_info": {
   "codemirror_mode": {
    "name": "ipython",
    "version": 3
   },
   "file_extension": ".py",
   "mimetype": "text/x-python",
   "name": "python",
   "nbconvert_exporter": "python",
   "pygments_lexer": "ipython3",
   "version": "3.7.6"
  }
 },
 "nbformat": 4,
 "nbformat_minor": 5
}
