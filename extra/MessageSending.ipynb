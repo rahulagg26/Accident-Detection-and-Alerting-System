{
 "cells": [
  {
   "cell_type": "code",
   "execution_count": 18,
   "id": "29967b30",
   "metadata": {},
   "outputs": [],
   "source": [
    "import pywhatkit\n",
    "from time import gmtime, strftime"
   ]
  },
  {
   "cell_type": "code",
   "execution_count": 19,
   "id": "02270c40",
   "metadata": {},
   "outputs": [],
   "source": [
    "x=strftime(\"%H %M\")\n",
    "x = [int(i) for i in x.split()]\n",
    "#Abhinav's Number\n",
    "my_data = 'HS9120'"
   ]
  },
  {
   "cell_type": "code",
   "execution_count": 20,
   "id": "c286eddc",
   "metadata": {},
   "outputs": [
    {
     "name": "stdout",
     "output_type": "stream",
     "text": [
      "In 105 Seconds WhatsApp will open and after 15 Seconds Message will be Delivered!\n"
     ]
    }
   ],
   "source": [
    "pywhatkit.sendwhatmsg('+919553652018', 'Accident happened!!!! \\nConcerning ' + my_data + ' vehicle number at location ' + 'XXXX '+ ' \\nPlease hurry' , x[0],x[1]+2 )"
   ]
  },
  {
   "cell_type": "code",
   "execution_count": null,
   "id": "6f3d22c5",
   "metadata": {},
   "outputs": [],
   "source": []
  }
 ],
 "metadata": {
  "kernelspec": {
   "display_name": "Python 3 (ipykernel)",
   "language": "python",
   "name": "python3"
  },
  "language_info": {
   "codemirror_mode": {
    "name": "ipython",
    "version": 3
   },
   "file_extension": ".py",
   "mimetype": "text/x-python",
   "name": "python",
   "nbconvert_exporter": "python",
   "pygments_lexer": "ipython3",
   "version": "3.7.6"
  }
 },
 "nbformat": 4,
 "nbformat_minor": 5
}
